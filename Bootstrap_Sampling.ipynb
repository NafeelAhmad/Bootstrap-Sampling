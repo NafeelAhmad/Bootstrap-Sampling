{
  "nbformat": 4,
  "nbformat_minor": 0,
  "metadata": {
    "colab": {
      "provenance": []
    },
    "kernelspec": {
      "name": "python3",
      "display_name": "Python 3"
    },
    "language_info": {
      "name": "python"
    },
    "widgets": {
      "application/vnd.jupyter.widget-state+json": {
        "3cbc7eeb1a70406e90b89a1338ae5834": {
          "model_module": "@jupyter-widgets/controls",
          "model_name": "HBoxModel",
          "model_module_version": "1.5.0",
          "state": {
            "_dom_classes": [],
            "_model_module": "@jupyter-widgets/controls",
            "_model_module_version": "1.5.0",
            "_model_name": "HBoxModel",
            "_view_count": null,
            "_view_module": "@jupyter-widgets/controls",
            "_view_module_version": "1.5.0",
            "_view_name": "HBoxView",
            "box_style": "",
            "children": [
              "IPY_MODEL_63c3f221496e41d0bae0dca28b779df9",
              "IPY_MODEL_6c58d2a535ab4358ae26f050bb92d150",
              "IPY_MODEL_38d80eb983b447a0a12366dc64d5d29b"
            ],
            "layout": "IPY_MODEL_3bfe089eb03043d786cabad2360fca80"
          }
        },
        "63c3f221496e41d0bae0dca28b779df9": {
          "model_module": "@jupyter-widgets/controls",
          "model_name": "HTMLModel",
          "model_module_version": "1.5.0",
          "state": {
            "_dom_classes": [],
            "_model_module": "@jupyter-widgets/controls",
            "_model_module_version": "1.5.0",
            "_model_name": "HTMLModel",
            "_view_count": null,
            "_view_module": "@jupyter-widgets/controls",
            "_view_module_version": "1.5.0",
            "_view_name": "HTMLView",
            "description": "",
            "description_tooltip": null,
            "layout": "IPY_MODEL_bacb0a877844439785822aab3bcd2407",
            "placeholder": "​",
            "style": "IPY_MODEL_4c91aab947d14b9597faf1e6fbc77ad6",
            "value": "100%"
          }
        },
        "6c58d2a535ab4358ae26f050bb92d150": {
          "model_module": "@jupyter-widgets/controls",
          "model_name": "FloatProgressModel",
          "model_module_version": "1.5.0",
          "state": {
            "_dom_classes": [],
            "_model_module": "@jupyter-widgets/controls",
            "_model_module_version": "1.5.0",
            "_model_name": "FloatProgressModel",
            "_view_count": null,
            "_view_module": "@jupyter-widgets/controls",
            "_view_module_version": "1.5.0",
            "_view_name": "ProgressView",
            "bar_style": "success",
            "description": "",
            "description_tooltip": null,
            "layout": "IPY_MODEL_5cbe617157564c7295406550555c66c6",
            "max": 35,
            "min": 0,
            "orientation": "horizontal",
            "style": "IPY_MODEL_1e4f7c8f813643fda7301c8b90ba31e0",
            "value": 35
          }
        },
        "38d80eb983b447a0a12366dc64d5d29b": {
          "model_module": "@jupyter-widgets/controls",
          "model_name": "HTMLModel",
          "model_module_version": "1.5.0",
          "state": {
            "_dom_classes": [],
            "_model_module": "@jupyter-widgets/controls",
            "_model_module_version": "1.5.0",
            "_model_name": "HTMLModel",
            "_view_count": null,
            "_view_module": "@jupyter-widgets/controls",
            "_view_module_version": "1.5.0",
            "_view_name": "HTMLView",
            "description": "",
            "description_tooltip": null,
            "layout": "IPY_MODEL_df6591c952334d518313ad3debaaa81c",
            "placeholder": "​",
            "style": "IPY_MODEL_e07e20d02d014a6b81d6f63120fb6d2b",
            "value": " 35/35 [00:38&lt;00:00,  1.09s/it]"
          }
        },
        "3bfe089eb03043d786cabad2360fca80": {
          "model_module": "@jupyter-widgets/base",
          "model_name": "LayoutModel",
          "model_module_version": "1.2.0",
          "state": {
            "_model_module": "@jupyter-widgets/base",
            "_model_module_version": "1.2.0",
            "_model_name": "LayoutModel",
            "_view_count": null,
            "_view_module": "@jupyter-widgets/base",
            "_view_module_version": "1.2.0",
            "_view_name": "LayoutView",
            "align_content": null,
            "align_items": null,
            "align_self": null,
            "border": null,
            "bottom": null,
            "display": null,
            "flex": null,
            "flex_flow": null,
            "grid_area": null,
            "grid_auto_columns": null,
            "grid_auto_flow": null,
            "grid_auto_rows": null,
            "grid_column": null,
            "grid_gap": null,
            "grid_row": null,
            "grid_template_areas": null,
            "grid_template_columns": null,
            "grid_template_rows": null,
            "height": null,
            "justify_content": null,
            "justify_items": null,
            "left": null,
            "margin": null,
            "max_height": null,
            "max_width": null,
            "min_height": null,
            "min_width": null,
            "object_fit": null,
            "object_position": null,
            "order": null,
            "overflow": null,
            "overflow_x": null,
            "overflow_y": null,
            "padding": null,
            "right": null,
            "top": null,
            "visibility": null,
            "width": null
          }
        },
        "bacb0a877844439785822aab3bcd2407": {
          "model_module": "@jupyter-widgets/base",
          "model_name": "LayoutModel",
          "model_module_version": "1.2.0",
          "state": {
            "_model_module": "@jupyter-widgets/base",
            "_model_module_version": "1.2.0",
            "_model_name": "LayoutModel",
            "_view_count": null,
            "_view_module": "@jupyter-widgets/base",
            "_view_module_version": "1.2.0",
            "_view_name": "LayoutView",
            "align_content": null,
            "align_items": null,
            "align_self": null,
            "border": null,
            "bottom": null,
            "display": null,
            "flex": null,
            "flex_flow": null,
            "grid_area": null,
            "grid_auto_columns": null,
            "grid_auto_flow": null,
            "grid_auto_rows": null,
            "grid_column": null,
            "grid_gap": null,
            "grid_row": null,
            "grid_template_areas": null,
            "grid_template_columns": null,
            "grid_template_rows": null,
            "height": null,
            "justify_content": null,
            "justify_items": null,
            "left": null,
            "margin": null,
            "max_height": null,
            "max_width": null,
            "min_height": null,
            "min_width": null,
            "object_fit": null,
            "object_position": null,
            "order": null,
            "overflow": null,
            "overflow_x": null,
            "overflow_y": null,
            "padding": null,
            "right": null,
            "top": null,
            "visibility": null,
            "width": null
          }
        },
        "4c91aab947d14b9597faf1e6fbc77ad6": {
          "model_module": "@jupyter-widgets/controls",
          "model_name": "DescriptionStyleModel",
          "model_module_version": "1.5.0",
          "state": {
            "_model_module": "@jupyter-widgets/controls",
            "_model_module_version": "1.5.0",
            "_model_name": "DescriptionStyleModel",
            "_view_count": null,
            "_view_module": "@jupyter-widgets/base",
            "_view_module_version": "1.2.0",
            "_view_name": "StyleView",
            "description_width": ""
          }
        },
        "5cbe617157564c7295406550555c66c6": {
          "model_module": "@jupyter-widgets/base",
          "model_name": "LayoutModel",
          "model_module_version": "1.2.0",
          "state": {
            "_model_module": "@jupyter-widgets/base",
            "_model_module_version": "1.2.0",
            "_model_name": "LayoutModel",
            "_view_count": null,
            "_view_module": "@jupyter-widgets/base",
            "_view_module_version": "1.2.0",
            "_view_name": "LayoutView",
            "align_content": null,
            "align_items": null,
            "align_self": null,
            "border": null,
            "bottom": null,
            "display": null,
            "flex": null,
            "flex_flow": null,
            "grid_area": null,
            "grid_auto_columns": null,
            "grid_auto_flow": null,
            "grid_auto_rows": null,
            "grid_column": null,
            "grid_gap": null,
            "grid_row": null,
            "grid_template_areas": null,
            "grid_template_columns": null,
            "grid_template_rows": null,
            "height": null,
            "justify_content": null,
            "justify_items": null,
            "left": null,
            "margin": null,
            "max_height": null,
            "max_width": null,
            "min_height": null,
            "min_width": null,
            "object_fit": null,
            "object_position": null,
            "order": null,
            "overflow": null,
            "overflow_x": null,
            "overflow_y": null,
            "padding": null,
            "right": null,
            "top": null,
            "visibility": null,
            "width": null
          }
        },
        "1e4f7c8f813643fda7301c8b90ba31e0": {
          "model_module": "@jupyter-widgets/controls",
          "model_name": "ProgressStyleModel",
          "model_module_version": "1.5.0",
          "state": {
            "_model_module": "@jupyter-widgets/controls",
            "_model_module_version": "1.5.0",
            "_model_name": "ProgressStyleModel",
            "_view_count": null,
            "_view_module": "@jupyter-widgets/base",
            "_view_module_version": "1.2.0",
            "_view_name": "StyleView",
            "bar_color": null,
            "description_width": ""
          }
        },
        "df6591c952334d518313ad3debaaa81c": {
          "model_module": "@jupyter-widgets/base",
          "model_name": "LayoutModel",
          "model_module_version": "1.2.0",
          "state": {
            "_model_module": "@jupyter-widgets/base",
            "_model_module_version": "1.2.0",
            "_model_name": "LayoutModel",
            "_view_count": null,
            "_view_module": "@jupyter-widgets/base",
            "_view_module_version": "1.2.0",
            "_view_name": "LayoutView",
            "align_content": null,
            "align_items": null,
            "align_self": null,
            "border": null,
            "bottom": null,
            "display": null,
            "flex": null,
            "flex_flow": null,
            "grid_area": null,
            "grid_auto_columns": null,
            "grid_auto_flow": null,
            "grid_auto_rows": null,
            "grid_column": null,
            "grid_gap": null,
            "grid_row": null,
            "grid_template_areas": null,
            "grid_template_columns": null,
            "grid_template_rows": null,
            "height": null,
            "justify_content": null,
            "justify_items": null,
            "left": null,
            "margin": null,
            "max_height": null,
            "max_width": null,
            "min_height": null,
            "min_width": null,
            "object_fit": null,
            "object_position": null,
            "order": null,
            "overflow": null,
            "overflow_x": null,
            "overflow_y": null,
            "padding": null,
            "right": null,
            "top": null,
            "visibility": null,
            "width": null
          }
        },
        "e07e20d02d014a6b81d6f63120fb6d2b": {
          "model_module": "@jupyter-widgets/controls",
          "model_name": "DescriptionStyleModel",
          "model_module_version": "1.5.0",
          "state": {
            "_model_module": "@jupyter-widgets/controls",
            "_model_module_version": "1.5.0",
            "_model_name": "DescriptionStyleModel",
            "_view_count": null,
            "_view_module": "@jupyter-widgets/base",
            "_view_module_version": "1.2.0",
            "_view_name": "StyleView",
            "description_width": ""
          }
        }
      }
    }
  },
  "cells": [
    {
      "cell_type": "markdown",
      "source": [
        "## <font color='red'><b>Task 1</b></font>"
      ],
      "metadata": {
        "id": "JNYVu7EQE43k"
      }
    },
    {
      "cell_type": "markdown",
      "source": [
        "<font color='red'> <b>Step - 1</b></font>"
      ],
      "metadata": {
        "id": "62O-xDvME038"
      }
    },
    {
      "cell_type": "markdown",
      "source": [
        "*  <font color='blue'><b>Creating samples</b></font><br>\n",
        "    <b> Randomly create 30 samples from the whole boston data points</b>\n",
        "    *  Creating each sample: Consider any random 303(60% of 506) data points from whole data set and then replicate any 203 points from the sampled points\n",
        "    \n",
        "     For better understanding of this procedure lets check this examples, assume we have 10 data points [1,2,3,4,5,6,7,8,9,10], first we take 6 data points randomly , consider we have selected [4, 5, 7, 8, 9, 3] now we will replicate 4 points from [4, 5, 7, 8, 9, 3], consder they are [5, 8, 3,7] so our final sample will be [4, 5, 7, 8, 9, 3, 5, 8, 3,7]\n",
        "* <font color='blue'><b> Create 30 samples </b></font>\n",
        "    *  Note that as a part of the Bagging when you are taking the random samples <b>make sure each of the sample will have different set of columns</b><br>\n",
        "Ex: Assume we have 10 columns[1 ,2 ,3 ,4 ,5 ,6 ,7 ,8 ,9 ,10] for the first sample we will select [3, 4, 5, 9, 1, 2] and for the second sample  [7, 9, 1, 4, 5, 6, 2] and so on...\n",
        "Make sure each sample will have atleast 3 feautres/columns/attributes\n",
        "\n",
        "* <font color='red'><b> Note - While selecting the random 60% datapoints from the whole data, make sure that the selected datapoints are all exclusive, repetition is not allowed. </b></font>"
      ],
      "metadata": {
        "id": "Rc_n1dsVEBs0"
      }
    },
    {
      "cell_type": "markdown",
      "source": [
        "<font color='red'><b>Step - 2 </b></font>"
      ],
      "metadata": {
        "id": "tgTt-c9mEvNN"
      }
    },
    {
      "cell_type": "markdown",
      "source": [
        "<font color='blue'><b>Building High Variance Models on each of the sample and finding train MSE value</b></font>"
      ],
      "metadata": {
        "id": "bOsd-cPKErA8"
      }
    },
    {
      "cell_type": "markdown",
      "source": [
        "*  Build a regression trees on each of 30 samples.\n",
        "*  Computed the predicted values of each data point(506 data points) in your corpus.\n",
        "*  Predicted house price of $i^{th}$ data point $y^{i}_{pred} =  \\frac{1}{30}\\sum_{k=1}^{30}(\\text{predicted value of } x^{i} \\text{ with } k^{th} \\text{ model})$\n",
        "*  Now calculate the $MSE =  \\frac{1}{506}\\sum_{i=1}^{506}(y^{i} - y^{i}_{pred})^{2}$\n"
      ],
      "metadata": {
        "id": "fVV4W3VfEgZ8"
      }
    },
    {
      "cell_type": "markdown",
      "source": [
        "<font color='red'> <b>Step - 3 </b></font>"
      ],
      "metadata": {
        "id": "uA83qy8tFIHb"
      }
    },
    {
      "cell_type": "markdown",
      "source": [
        "*  <font color='blue'><b>Calculating the OOB score </b></font>"
      ],
      "metadata": {
        "id": "Ew_z4G99FD27"
      }
    },
    {
      "cell_type": "markdown",
      "source": [
        "*  Predicted house price of $i^{th}$ data point $y^{i}_{pred} =  \\frac{1}{k}\\sum_{\\text{k= model which was buit on samples not included } x^{i}}(\\text{predicted value of } x^{i} \\text{ with } k^{th} \\text{ model})$.\n",
        "*  Now calculate the $OOB Score =  \\frac{1}{506}\\sum_{i=1}^{506}(y^{i} - y^{i}_{pred})^{2}$."
      ],
      "metadata": {
        "id": "gotMWddME-Xs"
      }
    },
    {
      "cell_type": "markdown",
      "source": [
        "# <font color='red'><b>Task 2</b></font>"
      ],
      "metadata": {
        "id": "8e1gxu-ZFL3-"
      }
    },
    {
      "cell_type": "markdown",
      "source": [
        "*  <font color='blue'><b>Computing CI of OOB Score and Train MSE</b></font>\n",
        "  *   Repeat Task 1 for 35 times, and for each iteration store the Train MSE and OOB score </li>\n",
        "<li> After this we will have 35 Train MSE values and 35 OOB scores </li>\n",
        "<li> using these 35 values (assume like a sample) find the confidence intravels of MSE and OOB Score </li>\n",
        "<li> you need to report CI of MSE and CI of OOB Score </li>\n",
        "<li> Note: Refer the Central_Limit_theorem.ipynb to check how to find the confidence intravel</li>\n",
        "</ol>"
      ],
      "metadata": {
        "id": "5GKlfanJFPoz"
      }
    },
    {
      "cell_type": "markdown",
      "source": [
        "# <font color='red'><b>Task 3</b></font>"
      ],
      "metadata": {
        "id": "o5JbWNWNFTb7"
      }
    },
    {
      "cell_type": "markdown",
      "source": [
        "*  <font color='blue'><b>Given a single query point predict the price of house.</b></font>"
      ],
      "metadata": {
        "id": "dTnvh8pJFZhL"
      }
    },
    {
      "cell_type": "markdown",
      "source": [
        "Consider xq= [0.18,20.0,5.00,0.0,0.421,5.60,72.2,7.95,7.0,30.0,19.1,372.13,18.60] \n",
        "Predict the house price for this point as mentioned in the step 2 of Task 1."
      ],
      "metadata": {
        "id": "WWZa8lmrFW-z"
      }
    },
    {
      "cell_type": "markdown",
      "source": [
        "## <font color='red'><b>A few key points</b></font>"
      ],
      "metadata": {
        "id": "1Cv8lmy-Fgjb"
      }
    },
    {
      "cell_type": "markdown",
      "source": [
        "* Remember that the datapoints used for calculating MSE score contain some datapoints that were initially used while training the base learners (the 60% sampling). This makes these datapoints partially seen (i.e. the datapoints used for calculating the MSE score are a mixture of seen and unseen data).\n",
        "Whereas, the datapoints used for calculating OOB score have only the unseen data. This makes these datapoints completely unseen and therefore appropriate for testing the model's performance on unseen data.\n",
        "\n",
        "* Given the information above, if your logic is correct, the calculated MSE score should be less than the OOB score.\n",
        "\n",
        "* The MSE score must lie between 0 and 10.\n",
        "* The OOB score must lie between 10 and 35.\n",
        "\n",
        "* The difference between the left nad right confidence-interval values must not be more than 10. Make sure this is true for both MSE and OOB confidence-interval values."
      ],
      "metadata": {
        "id": "dmlM1jCaFceb"
      }
    },
    {
      "cell_type": "markdown",
      "source": [
        "##Importing Libraries"
      ],
      "metadata": {
        "id": "ucbBImNrmMh2"
      }
    },
    {
      "cell_type": "code",
      "source": [
        "import numpy as np # importing numpy for numerical computation\n",
        "from sklearn.datasets import load_boston # here we are using sklearn's boston dataset\n",
        "from sklearn.metrics import mean_squared_error # importing mean_squared_error metric\n",
        "from sklearn.tree import DecisionTreeRegressor"
      ],
      "metadata": {
        "id": "34YFg71ch8ie"
      },
      "execution_count": null,
      "outputs": []
    },
    {
      "cell_type": "markdown",
      "source": [
        "## Loading Data"
      ],
      "metadata": {
        "id": "mvdjlyzXmUho"
      }
    },
    {
      "cell_type": "code",
      "source": [
        "boston = load_boston()\n",
        "x=boston.data #independent variables\n",
        "y=boston.target #target variable"
      ],
      "metadata": {
        "id": "waRYnk0akGYj"
      },
      "execution_count": null,
      "outputs": []
    },
    {
      "cell_type": "code",
      "source": [
        "x.shape"
      ],
      "metadata": {
        "colab": {
          "base_uri": "https://localhost:8080/"
        },
        "id": "d4GnVA7akJat",
        "outputId": "6308b9ce-3282-43a2-f7b6-d38e5536ce05"
      },
      "execution_count": null,
      "outputs": [
        {
          "output_type": "execute_result",
          "data": {
            "text/plain": [
              "(506, 13)"
            ]
          },
          "metadata": {},
          "execution_count": 3
        }
      ]
    },
    {
      "cell_type": "code",
      "source": [
        "x[:5]"
      ],
      "metadata": {
        "colab": {
          "base_uri": "https://localhost:8080/"
        },
        "id": "HCOoaGKtkMxA",
        "outputId": "08e53ddc-bb3b-4a9f-f71b-fbe4c2b22145"
      },
      "execution_count": null,
      "outputs": [
        {
          "output_type": "execute_result",
          "data": {
            "text/plain": [
              "array([[6.3200e-03, 1.8000e+01, 2.3100e+00, 0.0000e+00, 5.3800e-01,\n",
              "        6.5750e+00, 6.5200e+01, 4.0900e+00, 1.0000e+00, 2.9600e+02,\n",
              "        1.5300e+01, 3.9690e+02, 4.9800e+00],\n",
              "       [2.7310e-02, 0.0000e+00, 7.0700e+00, 0.0000e+00, 4.6900e-01,\n",
              "        6.4210e+00, 7.8900e+01, 4.9671e+00, 2.0000e+00, 2.4200e+02,\n",
              "        1.7800e+01, 3.9690e+02, 9.1400e+00],\n",
              "       [2.7290e-02, 0.0000e+00, 7.0700e+00, 0.0000e+00, 4.6900e-01,\n",
              "        7.1850e+00, 6.1100e+01, 4.9671e+00, 2.0000e+00, 2.4200e+02,\n",
              "        1.7800e+01, 3.9283e+02, 4.0300e+00],\n",
              "       [3.2370e-02, 0.0000e+00, 2.1800e+00, 0.0000e+00, 4.5800e-01,\n",
              "        6.9980e+00, 4.5800e+01, 6.0622e+00, 3.0000e+00, 2.2200e+02,\n",
              "        1.8700e+01, 3.9463e+02, 2.9400e+00],\n",
              "       [6.9050e-02, 0.0000e+00, 2.1800e+00, 0.0000e+00, 4.5800e-01,\n",
              "        7.1470e+00, 5.4200e+01, 6.0622e+00, 3.0000e+00, 2.2200e+02,\n",
              "        1.8700e+01, 3.9690e+02, 5.3300e+00]])"
            ]
          },
          "metadata": {},
          "execution_count": 4
        }
      ]
    },
    {
      "cell_type": "markdown",
      "source": [
        "## Task 1"
      ],
      "metadata": {
        "id": "lXMDZViwmpWh"
      }
    },
    {
      "cell_type": "markdown",
      "source": [
        "#### step 1: Generating samples"
      ],
      "metadata": {
        "id": "kF3QL_S1Pvdk"
      }
    },
    {
      "cell_type": "code",
      "source": [
        "def generating_samples(input_data,target_data):\n",
        "  # Getting 303 random row indices from the input data  \n",
        "  getting_rows=np.random.choice(list(range(len(x))),303,replace=False)\n",
        "  # Extracting 203 random rows indices \n",
        "  change_rows=np.random.choice(list(range(len(getting_rows))),203,replace=False)\n",
        "  # Getting from 3 to 13 random column indices\n",
        "  getting_columns=np.random.randint(3,13,np.random.randint(3,13))\n",
        "  sample_data=(input_data[getting_rows[:,None],getting_columns])\n",
        "  target_of_sample_data=(target_data[getting_rows])\n",
        "  # Replicating Data\n",
        "  replicated_sample_data=list(sample_data[change_rows])\n",
        "  target_of_replicated_sample_data=(target_of_sample_data[change_rows])\n",
        "  # performing Vstack to get full sample and target data\n",
        "  final_sample_data=np.vstack([sample_data,replicated_sample_data])  \n",
        "  final_target_data=np.vstack([target_of_sample_data.reshape(-1,1),target_of_replicated_sample_data.reshape(-1,1)])\n",
        "  return list(final_sample_data),list(final_target_data),list(getting_rows),list(getting_columns)"
      ],
      "metadata": {
        "id": "wdt_j9T9ms1w"
      },
      "execution_count": null,
      "outputs": []
    },
    {
      "cell_type": "code",
      "source": [
        "# Use generating_samples function to create 30 samples \n",
        "# store these created samples in a list\n",
        "list_input_data =[]\n",
        "list_output_data =[]\n",
        "list_selected_row= []\n",
        "list_selected_columns=[]"
      ],
      "metadata": {
        "id": "K5LXyZF9m05q"
      },
      "execution_count": null,
      "outputs": []
    },
    {
      "cell_type": "code",
      "source": [
        "for i in range(0,30):\n",
        "  sample,target,oob,fi = generating_samples(x,y)\n",
        "  list_input_data.append(sample)\n",
        "  list_output_data.append(target)\n",
        "  list_selected_row.append(oob)\n",
        "  list_selected_columns.append(fi)"
      ],
      "metadata": {
        "id": "xT8_MWppm5yA"
      },
      "execution_count": null,
      "outputs": []
    },
    {
      "cell_type": "code",
      "source": [
        "def grader_30(a):\n",
        "    assert(len(a)==30 and len(a[0])==506)\n",
        "    return True\n",
        "grader_30(list_input_data)"
      ],
      "metadata": {
        "colab": {
          "base_uri": "https://localhost:8080/"
        },
        "id": "3QFc2J1OoOs_",
        "outputId": "998b3668-2f8a-461e-b543-fa70805933d9"
      },
      "execution_count": null,
      "outputs": [
        {
          "output_type": "execute_result",
          "data": {
            "text/plain": [
              "True"
            ]
          },
          "metadata": {},
          "execution_count": 8
        }
      ]
    },
    {
      "cell_type": "code",
      "source": [
        "def grader_samples(a,b,c,d):\n",
        "    length = (len(a)==506  and len(b)==506)\n",
        "    sampled = (len(a)-len(set([str(i) for i in a]))==203)\n",
        "    rows_length = (len(c)==303)\n",
        "    column_length= (len(d)>=3)\n",
        "    assert(length and sampled and rows_length and column_length)\n",
        "    return True\n",
        "a,b,c,d = generating_samples(x, y)\n",
        "grader_samples(a,b,c,d)"
      ],
      "metadata": {
        "colab": {
          "base_uri": "https://localhost:8080/"
        },
        "id": "IfWh7-3LoI_m",
        "outputId": "cfe0c4ab-20db-46cc-f9b8-4ff840e07095"
      },
      "execution_count": null,
      "outputs": [
        {
          "output_type": "execute_result",
          "data": {
            "text/plain": [
              "True"
            ]
          },
          "metadata": {},
          "execution_count": 9
        }
      ]
    },
    {
      "cell_type": "markdown",
      "source": [],
      "metadata": {
        "id": "k-y2UqY5QEKG"
      }
    },
    {
      "cell_type": "markdown",
      "source": [
        "#### step 2: Building High Variance Models on each of the sample and finding train MSE value"
      ],
      "metadata": {
        "id": "tVgRuAJdQBtr"
      }
    },
    {
      "cell_type": "code",
      "source": [
        "from sklearn.tree import DecisionTreeRegressor\n",
        "all_models=[]\n",
        "for i in range(0,30):\n",
        "  Reg=DecisionTreeRegressor()\n",
        "  Reg.fit(list_input_data[i],list_output_data[i])\n",
        "  all_models.append(Reg)"
      ],
      "metadata": {
        "id": "qBya1bzsnAUD"
      },
      "execution_count": null,
      "outputs": []
    },
    {
      "cell_type": "markdown",
      "source": [
        "#### step 3: Calculating MSE and OOB Score"
      ],
      "metadata": {
        "id": "gdUmQXUoQWVD"
      }
    },
    {
      "cell_type": "code",
      "source": [
        "pred_values=[]\n",
        "for i in range(0,30):\n",
        "  pred_values.append(all_models[i].predict(x[:,list_selected_columns[i]]))\n",
        "predict=np.median(np.array(pred_values),axis=0)\n",
        "#mean squared error\n",
        "mean_squared_error(y,predict)"
      ],
      "metadata": {
        "colab": {
          "base_uri": "https://localhost:8080/"
        },
        "id": "rNAPL1TenFcW",
        "outputId": "568c45a2-6d09-4a34-e19d-5e79b916842f"
      },
      "execution_count": null,
      "outputs": [
        {
          "output_type": "execute_result",
          "data": {
            "text/plain": [
              "0.16176883351340998"
            ]
          },
          "metadata": {},
          "execution_count": 21
        }
      ]
    },
    {
      "cell_type": "code",
      "source": [
        "oob_score=[]\n",
        "for i in range(len(x)):\n",
        "    predict_oob=[]\n",
        "    for j in range(0,30):\n",
        "        if i not in list_selected_row[j]:\n",
        "            predict_oob.append(all_models[j].predict(x[i][list_selected_columns[j]].reshape(1,-1)))\n",
        "    oob_score.append(np.median(predict_oob))\n",
        "print(\"oob_score is : \",(mean_squared_error(y,oob_score)))"
      ],
      "metadata": {
        "colab": {
          "base_uri": "https://localhost:8080/"
        },
        "id": "5q8lp7AgnTuJ",
        "outputId": "c1f608b6-a71d-4f17-9811-2e992ccd8cd8"
      },
      "execution_count": null,
      "outputs": [
        {
          "output_type": "stream",
          "name": "stdout",
          "text": [
            "oob_score is :  15.586505467279439\n"
          ]
        }
      ]
    },
    {
      "cell_type": "markdown",
      "source": [
        "## Task 2"
      ],
      "metadata": {
        "id": "yMb6RCqh5Lqf"
      }
    },
    {
      "cell_type": "markdown",
      "source": [
        "#### Computing CI of OOB Score and Train MSE"
      ],
      "metadata": {
        "id": "vQy98nAZJuIK"
      }
    },
    {
      "cell_type": "code",
      "source": [
        "from sklearn.tree import DecisionTreeRegressor\n",
        "from tqdm.notebook import tqdm\n",
        "\n",
        "obb_score_full=[]\n",
        "mse_full=[]\n",
        "for i in tqdm(range(35)):       # Repeating Task 1 for 35 times\n",
        "  input_data =[]\n",
        "  output_data =[]\n",
        "  selected_row= []\n",
        "  selected_columns=[]\n",
        "  for i in range(0,30):\n",
        "    sample,target,oob,fi = generating_samples(x,y)   # Calling generate_samples function\n",
        "    input_data.append(sample)\n",
        "    output_data.append(target)\n",
        "    selected_row.append(oob)\n",
        "    selected_columns.append(fi)\n",
        "\n",
        "  pred_values=[]\n",
        "  all_models=[]\n",
        "  for i in range(0,30):\n",
        "    model=DecisionTreeRegressor()              # Calling Regressor Model\n",
        "    model.fit(input_data[i],output_data[i])\n",
        "    all_models.append(model)\n",
        "    pred_values.append(all_models[i].predict(x[:,selected_columns[i]]))\n",
        "  predict=np.median(np.array(pred_values),axis=0)\n",
        "  #mean squared error\n",
        "  mse_full.append(mean_squared_error(y,predict))   # appending 35 Train MSE values \n",
        "  obb_predict=[]\n",
        "  oob_score=[]\n",
        "  for i in range(len(x)):\n",
        "      predict_oob=[]\n",
        "      for j in range(0,30):\n",
        "          if i not in selected_row[j]:\n",
        "              predict_oob.append(all_models[j].predict(x[i][selected_columns[j]].reshape(1,-1)))\n",
        "      oob_score.append(np.median(predict_oob))\n",
        "  obb_score_full.append(mean_squared_error(y,oob_score))      # appending 35 OOB scores\n",
        "obb_score_full=np.array(obb_score_full)\n",
        "mse_full=np.array(mse_full)"
      ],
      "metadata": {
        "colab": {
          "base_uri": "https://localhost:8080/",
          "height": 49,
          "referenced_widgets": [
            "3cbc7eeb1a70406e90b89a1338ae5834",
            "63c3f221496e41d0bae0dca28b779df9",
            "6c58d2a535ab4358ae26f050bb92d150",
            "38d80eb983b447a0a12366dc64d5d29b",
            "3bfe089eb03043d786cabad2360fca80",
            "bacb0a877844439785822aab3bcd2407",
            "4c91aab947d14b9597faf1e6fbc77ad6",
            "5cbe617157564c7295406550555c66c6",
            "1e4f7c8f813643fda7301c8b90ba31e0",
            "df6591c952334d518313ad3debaaa81c",
            "e07e20d02d014a6b81d6f63120fb6d2b"
          ]
        },
        "id": "LNzoVAUe3-_4",
        "outputId": "a9e6fd6d-dda2-476d-c683-bf3da9076901"
      },
      "execution_count": null,
      "outputs": [
        {
          "output_type": "display_data",
          "data": {
            "text/plain": [
              "  0%|          | 0/35 [00:00<?, ?it/s]"
            ],
            "application/vnd.jupyter.widget-view+json": {
              "version_major": 2,
              "version_minor": 0,
              "model_id": "3cbc7eeb1a70406e90b89a1338ae5834"
            }
          },
          "metadata": {}
        }
      ]
    },
    {
      "cell_type": "code",
      "source": [
        "import math as m\n",
        "def ci(data):\n",
        "    \" calculating the confidence interval \"\n",
        "    mean = data.mean()\n",
        "    std = data.std()\n",
        "    size = len(data)\n",
        "    left_limit  = np.round(mean - 2*(std/m.sqrt(size)), 3) \n",
        "    right_limit = np.round(mean + 2*(std/m.sqrt(size)), 3)\n",
        "    return left_limit,right_limit\n",
        "left,right=ci(mse_full)\n",
        "print(\"Confidence Interval Of MSE :\",left,'to',right)\n",
        "\n",
        "left,right=ci(obb_score_full)\n",
        "print(\"Confidence Interval Of OOB :\",left,'to',right)"
      ],
      "metadata": {
        "colab": {
          "base_uri": "https://localhost:8080/"
        },
        "id": "mCO3h3-Vy2Fa",
        "outputId": "c966923f-043b-42ba-a79a-7894596345f1"
      },
      "execution_count": null,
      "outputs": [
        {
          "output_type": "stream",
          "name": "stdout",
          "text": [
            "Confidence Interval Of MSE : 0.085 to 0.146\n",
            "Confidence Interval Of OOB : 15.209 to 16.413\n"
          ]
        }
      ]
    },
    {
      "cell_type": "markdown",
      "source": [
        "## Task 3"
      ],
      "metadata": {
        "id": "AEUTYUcu5RR4"
      }
    },
    {
      "cell_type": "markdown",
      "source": [
        "#### Predict the house price"
      ],
      "metadata": {
        "id": "6sLKuLNTJZDM"
      }
    },
    {
      "cell_type": "code",
      "source": [
        "xq= [0.18,20.0,5.00,0.0,0.421,5.60,72.2,7.95,7.0,30.0,19.1,372.13,18.60]\n",
        "\n",
        "def predict_y_when_x(x_query):\n",
        "  y_pred_array_30_sample = []\n",
        "  \n",
        "  for i in range(0, 30):\n",
        "    model_i = all_models[i]   # storing all models\n",
        "    # Extract x for ith data point with specific number of featues from list_selected_columns\n",
        "    x_data_point_i = [x_query[column] for column in selected_columns[i]]\n",
        "    x_data_point_i = np.array(x_data_point_i).reshape(1, -1)\n",
        "    y_pred_i = model_i.predict(x_data_point_i)\n",
        "    y_pred_array_30_sample.append(y_pred_i)\n",
        "    \n",
        "  y_pred_array_30_sample = np.array(y_pred_array_30_sample)\n",
        "  y_pred_median = np.median(y_pred_array_30_sample)\n",
        "  return y_pred_median \n",
        "\n",
        "y_pred_for_xq = predict_y_when_x(xq)\n",
        "print(y_pred_for_xq)"
      ],
      "metadata": {
        "colab": {
          "base_uri": "https://localhost:8080/"
        },
        "id": "FWpINZxECNDM",
        "outputId": "805e8e7a-61d6-4710-94a4-9e84161449c6"
      },
      "execution_count": null,
      "outputs": [
        {
          "output_type": "stream",
          "name": "stdout",
          "text": [
            "18.5\n"
          ]
        }
      ]
    },
    {
      "cell_type": "markdown",
      "source": [
        "#### Observations from task 1,2 & 3"
      ],
      "metadata": {
        "id": "kmwMdxtfQjC6"
      }
    },
    {
      "cell_type": "code",
      "source": [
        "from prettytable import PrettyTable  # http://zetcode.com/python/prettytable/\n",
        "from prettytable import ALL as ALL\n",
        "table=PrettyTable(hrules=ALL)\n",
        "#table.field_names = [ \"Task\",\"\", \"\", \"Hyper Parameter\", \"Train-AUC\",\"Test-AUC\"] # \n",
        "table.add_row([1, \"Mean Square Error\",0.16176])\n",
        "table.add_row([2, \"OOB Score\", 15.58650])\n",
        "table.add_row([3,\"Confidence Interval Of MSE \",\"0.085 - 0.146\"])\n",
        "table.add_row([4, \" Confidence Interval Of OOB\",\"15.209 - 16.413\"])\n",
        "table.add_row([5,\"Predicted Value\", 18.5])\n",
        "print(table)"
      ],
      "metadata": {
        "colab": {
          "base_uri": "https://localhost:8080/"
        },
        "id": "1X_0atGUKhNR",
        "outputId": "d21c466f-0043-4193-b141-53ec95a2945f"
      },
      "execution_count": null,
      "outputs": [
        {
          "output_type": "stream",
          "name": "stdout",
          "text": [
            "+---------+-----------------------------+-----------------+\n",
            "| Field 1 |           Field 2           |     Field 3     |\n",
            "+---------+-----------------------------+-----------------+\n",
            "|    1    |      Mean Square Error      |     0.16176     |\n",
            "+---------+-----------------------------+-----------------+\n",
            "|    2    |          OOB Score          |     15.5865     |\n",
            "+---------+-----------------------------+-----------------+\n",
            "|    3    | Confidence Interval Of MSE  |  0.085 - 0.146  |\n",
            "+---------+-----------------------------+-----------------+\n",
            "|    4    |  Confidence Interval Of OOB | 15.209 - 16.413 |\n",
            "+---------+-----------------------------+-----------------+\n",
            "|    5    |       Predicted Value       |       18.5      |\n",
            "+---------+-----------------------------+-----------------+\n"
          ]
        }
      ]
    }
  ]
}